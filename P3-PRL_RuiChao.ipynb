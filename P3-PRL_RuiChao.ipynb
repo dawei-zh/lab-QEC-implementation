{
 "cells": [
  {
   "cell_type": "markdown",
   "id": "763e7b8b-864d-4bc0-b599-1419771bbf96",
   "metadata": {},
   "source": [
    "# PRL-Rui Chao: QEC With Two Extra Qubit\n",
    "\n",
    "In this notebook, I am going to implement a new error correction code purposed by Rui Chao and Ben Reichardt (see here: [Quantum Error Correction with Only Two Extra Qubits](https://journals.aps.org/prl/abstract/10.1103/PhysRevLett.121.050502)). They consider the CNOT gate error during the error detection in general quantum error correction code, and use an extra ancilla qubit as a flag to trace the CNOT gate error. In this notebook, I will implement his modified code for $[[5, 1, 3]]$ perfect code.\n",
    "\n",
    "## I. Introduction of Background Knowledge\n",
    "The perfect code is the smallest quantum error correction code for 1 logical qubit (please see appendix for details). To measure the eigenvalue of stabilizer of perfect code, we need to use the CNOT gate and Hadmard gate and assume that those gates would not bring extra error. "
   ]
  },
  {
   "cell_type": "code",
   "execution_count": 2,
   "id": "1e417bf0-2820-45b7-b646-01dcd898e5d7",
   "metadata": {},
   "outputs": [],
   "source": [
    "# Follow the perfect code circuit\n",
    "# Import require package\n",
    "import numpy as np\n",
    "from qiskit import QuantumRegister, ClassicalRegister, QuantumCircuit, transpile, Aer, IBMQ\n",
    "from qiskit.visualization import plot_histogram\n",
    "# Loading your IBM Quantum account(s)\n",
    "provider = IBMQ.load_account()"
   ]
  },
  {
   "cell_type": "code",
   "execution_count": 3,
   "id": "c91e6955-47f1-412e-9f12-d02154355851",
   "metadata": {},
   "outputs": [],
   "source": [
    "# Follow the perfect code circuit\n",
    "# Construct quantum circuit\n",
    "qreg_q = QuantumRegister(5, 'q')\n",
    "qreg_a = QuantumRegister(4, 'a')\n",
    "creg_c = ClassicalRegister(9, 'c')\n",
    "circuit = QuantumCircuit(qreg_q, qreg_a, creg_c)\n",
    "\n",
    "# Encoding...Still working on it"
   ]
  },
  {
   "cell_type": "markdown",
   "id": "9d26683f-3f5c-4b9a-a341-868418fcdb25",
   "metadata": {},
   "source": [
    "However, sometimes the CNOT gate can be a fault gate and introduce extra error to the circuit. During the error syndrome measurement part, we need to measure stabilizer\n",
    "\\begin{equation}\n",
    "\\mathcal{S} = \\{XZZXI, IXZZX, XIXZZ, ZXIXZ\\}.\n",
    "\\end{equation}\n",
    "Note that when the CNOT gate works well and would not bring any noise, the error detecting code would not break the coherence of $|\\psi_L\\rangle$ while detecting the error, since the stabilizer $\\mathcal{S}_i E_{a}|\\psi_L\\rangle=\\pm |\\psi_L\\rangle $ and all operations in the detection circuit is $\\mathcal{S}_i$ operation on the circuit. If the second or third CNOT gate has something wrong, and for example, has a $XZ$ fault. The stabilizer part becomes $XZZXI \\rightarrow IXZXI$ and $(IXZXI)E_{a}|\\psi_L\\rangle$ would not be $\\pm |\\psi\\rangle$. That is, after performing stabilizer operation, the quantum state, which was supposed to be unchanged, becomes $(IXZXI)E_{a}|\\psi_L\\rangle$ and has an extra $IXZXI$ error. Thus, we need to correct the extra error after recover all other noise. Meanwhile, the CNOT gate would also raise a $Z$ error in the ancilla qubit when it raises a $I,X,Y,Z$ fault in the main qubits. Here is a table from their paper to illustrate what kind of error the failure of CNOT will raise in the main 5 qubits. \n",
    "\n",
    "|  Failure  |   Original Stabilizer   |  Data Error  |\n",
    "|  :----:   |         :----:          |    :----:    |\n",
    "|    $IZ$   |        $XZZXI$          |    $IIZXI$   |\n",
    "|    $XZ$   |        $XZZXI$          |    $IXZXI$   |\n",
    "|    $YZ$   |        $XZZXI$          |    $IYZXI$   |\n",
    "|    $ZZ$   |        $XZZXI$          |    $IZZXI$   |\n",
    "\n",
    "In practice, Rui and Reichardt purpose to use an extra ancilla qubit to detect the CNOT error (shown below)"
   ]
  },
  {
   "cell_type": "code",
   "execution_count": 5,
   "id": "98650e42-2ca4-4030-9bb8-2a93265bcd66",
   "metadata": {},
   "outputs": [
    {
     "data": {
      "image/png": "[encoded data removed]",
      "text/plain": [
       "<Figure size 716.864x505.68 with 1 Axes>"
      ]
     },
     "execution_count": 5,
     "metadata": {},
     "output_type": "execute_result"
    }
   ],
   "source": [
    "# Construct quantum circuit\n",
    "qreg_q = QuantumRegister(5, 'q')\n",
    "qreg_a = QuantumRegister(1, 'a')\n",
    "qreg_aa= QuantumRegister(1, 'extra')\n",
    "creg_c = ClassicalRegister(7, 'c')\n",
    "circuit = QuantumCircuit(qreg_q, qreg_a, qreg_aa, creg_c)\n",
    "\n",
    "# Error Detection Circuit\n",
    "circuit.barrier()\n",
    "\n",
    "# Correspond to stabilizer XZZXI\n",
    "circuit.h(qreg_q[0])\n",
    "circuit.h(qreg_aa[0])\n",
    "circuit.cx(qreg_q[0], qreg_a[0])\n",
    "circuit.h(qreg_q[0])\n",
    "circuit.cx(qreg_aa[0], qreg_a[0])\n",
    "circuit.cx(qreg_q[1], qreg_a[0])\n",
    "circuit.cx(qreg_q[2], qreg_a[0])\n",
    "circuit.cx(qreg_aa[0], qreg_a[0])\n",
    "circuit.h(qreg_q[3])\n",
    "circuit.cx(qreg_q[3], qreg_a[0])\n",
    "circuit.h(qreg_q[3])\n",
    "circuit.barrier()\n",
    "circuit.draw()"
   ]
  },
  {
   "cell_type": "markdown",
   "id": "e39caba1-495f-4b5c-896a-a9c5a5d2cd22",
   "metadata": {},
   "source": [
    "According to the circuit, if the first CNOT gate is a fault gate, then it would raise a $Z$ error in the ancllia qubit. Note that if the target qubit has a $Z$ error, the $Z$ error would propagate into the control qubit and change the $|+\\rangle$ state into $|-\\rangle$ state. Then if we measure the extra ancilla qubit, we could in principle know whether the CNOT gate is a fault gate. Here we assume only one of two CNOT gate will bring an extra error, so we could prepare an extra recovery if we detect $|-\\rangle$ in the extra ancilla qubit. "
   ]
  },
  {
   "cell_type": "markdown",
   "id": "37b69ee0-c5f8-452a-871d-3088cde062ee",
   "metadata": {},
   "source": [
    "## Appendix The Perfect Code\n",
    "\n",
    "The perfect code is used to protect information of 1 qubit, and its encoding rules are complicated. We need to make a logical qubit as\n",
    "\n",
    "\\begin{align}\n",
    "|0_L\\rangle &= \\frac{1}{4}(|00000\\rangle + |10010\\rangle + |01001\\rangle + |10100\\rangle \\\\\n",
    "&+|01010\\rangle - |11011\\rangle - |00110\\rangle - |11000\\rangle \\\\\n",
    "&-|11101\\rangle - |00011\\rangle - |11110\\rangle - |01111\\rangle \\\\\n",
    "&-|10001\\rangle - |01100\\rangle - |10111\\rangle + |00101\\rangle )\\\\\n",
    "\\end{align}\n",
    "\n",
    "\n",
    "\\begin{align}\n",
    "|1_L\\rangle &= \\frac{1}{4}(|11111\\rangle + |01101\\rangle + |10110\\rangle + |01011\\rangle \\\\\n",
    "&+|10101\\rangle - |00100\\rangle - |11001\\rangle - |00111\\rangle \\\\\n",
    "&-|00010\\rangle - |11100\\rangle - |00001\\rangle - |10000\\rangle \\\\\n",
    "&-|01110\\rangle - |10011\\rangle - |01000\\rangle + |11010\\rangle )\\\\\n",
    "\\end{align}\n",
    "\n",
    "Perfect code will perform correction with following procedure:\n",
    "* Encode $|\\psi\\rangle$ , $|\\psi_L\\rangle=a|0_L\\rangle+b|1_L\\rangle$\n",
    "* (Noise happen)\n",
    "* Specify the noise with the help of syndrome from stabilizer. \n",
    "* Recover the noise with syndrome measurement result\n",
    "* Decode $|\\psi_L\\rangle$ and re-generate $|\\psi\\rangle = a|0\\rangle + b|1\\rangle$"
   ]
  }
 ],
 "metadata": {
  "kernelspec": {
   "display_name": "Qiskit v0.33.1 (ipykernel)",
   "language": "python",
   "name": "python3"
  },
  "language_info": {
   "codemirror_mode": {
    "name": "ipython",
    "version": 3
   },
   "file_extension": ".py",
   "mimetype": "text/x-python",
   "name": "python",
   "nbconvert_exporter": "python",
   "pygments_lexer": "ipython3",
   "version": "3.8.10"
  },
  "widgets": {
   "application/vnd.jupyter.widget-state+json": {
    "state": {},
    "version_major": 2,
    "version_minor": 0
   }
  }
 },
 "nbformat": 4,
 "nbformat_minor": 5
}
